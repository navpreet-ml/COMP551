{
 "cells": [
  {
   "cell_type": "code",
   "execution_count": 111,
   "metadata": {
    "colab": {},
    "colab_type": "code",
    "id": "ij8n5Ic1gDzO"
   },
   "outputs": [],
   "source": [
    "#this is task 3 part 1\n",
    "import json # we need to use the JSON package to load the data, since the data is stored in JSON format\n",
    "import pandas as pd\n",
    "import numpy as np\n",
    "import matplotlib.pyplot as plt\n",
    "import collections as cl\n",
    "with open(\"proj1_data.json\") as fp:\n",
    "    data = json.load(fp)\n",
    "data = pd.DataFrame.from_dict(data, orient = 'columns')    "
   ]
  },
  {
   "cell_type": "code",
   "execution_count": 112,
   "metadata": {
    "colab": {},
    "colab_type": "code",
    "id": "h3olmv2DgaDW"
   },
   "outputs": [],
   "source": [
    "#Converting true and false values into binaries\n",
    "data[\"is_root\"] = data[\"is_root\"].astype(int)\n",
    "\n",
    "#Store Popularity as target variable\n",
    "y = data[\"popularity_score\"]\n",
    "#Dropping target variable in data\n",
    "data = data.drop(['popularity_score', 'text'],1) #get rid of other features and try with just one to begin with"
   ]
  },
  {
   "cell_type": "code",
   "execution_count": 113,
   "metadata": {
    "colab": {},
    "colab_type": "code",
    "id": "WEc2MNjdgdc-"
   },
   "outputs": [],
   "source": [
    "#splitting data\n",
    "singles = np.ones((12000,1))\n",
    "X = np.concatenate((data, singles),axis=1) #add a column of ones for the gradient descent, this is the bias\n",
    "#Splitting Data\n",
    "X_train = X[:10000]\n",
    "X_val = X[10000:11000]\n",
    "X_test = X[11000:12000]\n",
    "#Splitting targets\n",
    "y = y.values.reshape(12000,1)\n",
    "Y_train = y[:10000]\n",
    "Y_val = y[10000:11000]\n",
    "Y_test = y[11000:12000]"
   ]
  },
  {
   "cell_type": "code",
   "execution_count": 114,
   "metadata": {
    "colab": {
     "base_uri": "https://localhost:8080/",
     "height": 68
    },
    "colab_type": "code",
    "id": "2LRiwhzvFiw1",
    "outputId": "90120e3d-6f98-410f-9437-923a06fd2d2a"
   },
   "outputs": [],
   "source": [
    "X_train = pd.DataFrame(X_train, columns = [\"children\", \"controversiality\", \"is_root\", \"bias\"])\n",
    "X_val = pd.DataFrame(X_val, columns = [\"children\", \"controversiality\", \"is_root\", \"bias\"])"
   ]
  },
  {
   "cell_type": "code",
   "execution_count": 115,
   "metadata": {
    "colab": {},
    "colab_type": "code",
    "id": "ylSCEGQGEgHA"
   },
   "outputs": [],
   "source": [
    "def MSE(x,y,w):\n",
    "    MSE = np.sum(pd.DataFrame((np.square(np.dot(x,w)-y))/len(y)))\n",
    "    return MSE"
   ]
  },
  {
   "cell_type": "markdown",
   "metadata": {},
   "source": [
    "# **Closed form**"
   ]
  },
  {
   "cell_type": "code",
   "execution_count": 116,
   "metadata": {},
   "outputs": [],
   "source": [
    "def closed_form(x_data,y_data):\n",
    "    p1 = x_data.T.dot(x_data)\n",
    "    p2 = x_data.T.dot(y_data)\n",
    "    p1_inv = np.linalg.inv(p1)\n",
    "    w = pd.DataFrame(p1_inv.dot(p2))\n",
    "    return w"
   ]
  },
  {
   "cell_type": "markdown",
   "metadata": {},
   "source": [
    "**Runtime**"
   ]
  },
  {
   "cell_type": "code",
   "execution_count": 117,
   "metadata": {},
   "outputs": [
    {
     "name": "stdout",
     "output_type": "stream",
     "text": [
      "2.45 ms ± 468 µs per loop (mean ± std. dev. of 7 runs, 1 loop each)\n"
     ]
    }
   ],
   "source": [
    "#find the runtime of the closed form approach\n",
    "%%timeit\n",
    "w_closed_form = closed_form(X_train, Y_train)"
   ]
  },
  {
   "cell_type": "markdown",
   "metadata": {},
   "source": [
    "**Performance**"
   ]
  },
  {
   "cell_type": "code",
   "execution_count": 78,
   "metadata": {},
   "outputs": [
    {
     "data": {
      "text/html": [
       "<div>\n",
       "<style scoped>\n",
       "    .dataframe tbody tr th:only-of-type {\n",
       "        vertical-align: middle;\n",
       "    }\n",
       "\n",
       "    .dataframe tbody tr th {\n",
       "        vertical-align: top;\n",
       "    }\n",
       "\n",
       "    .dataframe thead th {\n",
       "        text-align: right;\n",
       "    }\n",
       "</style>\n",
       "<table border=\"1\" class=\"dataframe\">\n",
       "  <thead>\n",
       "    <tr style=\"text-align: right;\">\n",
       "      <th></th>\n",
       "      <th>0</th>\n",
       "      <th>1</th>\n",
       "      <th>2</th>\n",
       "      <th>3</th>\n",
       "    </tr>\n",
       "  </thead>\n",
       "  <tbody>\n",
       "    <tr>\n",
       "      <th>0</th>\n",
       "      <td>0.375364</td>\n",
       "      <td>-1.085847</td>\n",
       "      <td>-0.226277</td>\n",
       "      <td>0.820925</td>\n",
       "    </tr>\n",
       "  </tbody>\n",
       "</table>\n",
       "</div>"
      ],
      "text/plain": [
       "          0         1         2         3\n",
       "0  0.375364 -1.085847 -0.226277  0.820925"
      ]
     },
     "execution_count": 78,
     "metadata": {},
     "output_type": "execute_result"
    }
   ],
   "source": [
    "w_closed_form.T #these are the weights obtained by the closed form"
   ]
  },
  {
   "cell_type": "code",
   "execution_count": 118,
   "metadata": {},
   "outputs": [
    {
     "name": "stdout",
     "output_type": "stream",
     "text": [
      "0    1.084683\n",
      "dtype: float64 0    1.020327\n",
      "dtype: float64\n"
     ]
    }
   ],
   "source": [
    "print(MSE(X_train, Y_train, w_closed_form),\n",
    "      MSE(X_val, Y_val, w_closed_form))"
   ]
  },
  {
   "cell_type": "markdown",
   "metadata": {},
   "source": [
    "# **Gradient Descent**"
   ]
  },
  {
   "cell_type": "code",
   "execution_count": 119,
   "metadata": {
    "colab": {
     "base_uri": "https://localhost:8080/",
     "height": 173
    },
    "colab_type": "code",
    "id": "QjYAEt4Egyss",
    "outputId": "574dd87f-bd79-4ff4-b2da-61e6ce1a435a"
   },
   "outputs": [],
   "source": [
    "np.random.seed(123) #Set the seed\n",
    "w_0 = pd.DataFrame(np.random.rand(4)) #choose random starting value"
   ]
  },
  {
   "cell_type": "code",
   "execution_count": 148,
   "metadata": {
    "colab": {},
    "colab_type": "code",
    "id": "ad8hCsJSnlsK"
   },
   "outputs": [],
   "source": [
    "def gradient_descent(x,y,w,n, beta,epsilon):\n",
    "    grad = epsilon+1 #initializes while loop, will always be greater than epsilon\n",
    "    p1 = np.dot(x.T,x)\n",
    "    p2 = np.dot(x.T, y)\n",
    "    alpha = n/(1+beta)\n",
    "    while abs(grad) > epsilon:\n",
    "        if (alpha>1e-5):\n",
    "            alpha = n/(1+beta)\n",
    "            beta = 10*beta #want beta to get bigger with each iteration so that the learning rate decays\n",
    "        gradient = 2*(np.dot(p1,w)-p2)\n",
    "        grad = np.linalg.norm(gradient)\n",
    "        w = w-alpha*(gradient)\n",
    "    return w"
   ]
  },
  {
   "cell_type": "code",
   "execution_count": 150,
   "metadata": {},
   "outputs": [],
   "source": [
    "def gradient_descent_mse_history(x,y,w,n, beta,epsilon):\n",
    "    grad = epsilon+1 #initializes while loop, will always be greater than epsilon\n",
    "    MSE_history = pd.DataFrame(MSE(x,y,w))\n",
    "    p1 = np.dot(x.T,x)\n",
    "    p2 = np.dot(x.T, y)\n",
    "    alpha = n/(1+beta)\n",
    "    while abs(grad) > epsilon:\n",
    "        if (alpha>1e-5):\n",
    "            alpha = n/(1+beta)\n",
    "            beta = 10*beta #want beta to get bigger with each iteration so that the learning rate decays\n",
    "        gradient = 2*(np.dot(p1,w)-p2)\n",
    "        grad = np.linalg.norm(gradient)\n",
    "        w = w-alpha*(gradient)\n",
    "        MSE_history = MSE_history.append(pd.DataFrame(MSE(x,y,w)), ignore_index = True)\n",
    "    return w, MSE_history"
   ]
  },
  {
   "cell_type": "code",
   "execution_count": 154,
   "metadata": {},
   "outputs": [
    {
     "data": {
      "image/png": "[encoded data removed]",
      "text/plain": [
       "<Figure size 432x288 with 1 Axes>"
      ]
     },
     "metadata": {},
     "output_type": "display_data"
    }
   ],
   "source": [
    "w, MSE_history = gradient_descent_mse_history(X_train, Y_train, w_0, 0.001, 10, 0.0163)\n",
    "xaxis = list(range(len(MSE_history)))\n",
    "plt.plot(xaxis, MSE_history[0])\n",
    "plt.xlabel(\"Iterations\")\n",
    "plt.ylabel(\"MSE\")\n",
    "plt.show()"
   ]
  },
  {
   "cell_type": "markdown",
   "metadata": {},
   "source": [
    "**stability - varying hyperparameters**"
   ]
  },
  {
   "cell_type": "markdown",
   "metadata": {},
   "source": [
    "**Differences in epsilon and their effects on the weights and MSE**"
   ]
  },
  {
   "cell_type": "markdown",
   "metadata": {},
   "source": [
    "1. A sufficiently low epsilon (tolerance) will give the same weights as the closed form solution"
   ]
  },
  {
   "cell_type": "code",
   "execution_count": 121,
   "metadata": {},
   "outputs": [
    {
     "data": {
      "text/html": [
       "<div>\n",
       "<style scoped>\n",
       "    .dataframe tbody tr th:only-of-type {\n",
       "        vertical-align: middle;\n",
       "    }\n",
       "\n",
       "    .dataframe tbody tr th {\n",
       "        vertical-align: top;\n",
       "    }\n",
       "\n",
       "    .dataframe thead th {\n",
       "        text-align: right;\n",
       "    }\n",
       "</style>\n",
       "<table border=\"1\" class=\"dataframe\">\n",
       "  <thead>\n",
       "    <tr style=\"text-align: right;\">\n",
       "      <th></th>\n",
       "      <th>0</th>\n",
       "      <th>1</th>\n",
       "      <th>2</th>\n",
       "      <th>3</th>\n",
       "    </tr>\n",
       "  </thead>\n",
       "  <tbody>\n",
       "    <tr>\n",
       "      <th>0</th>\n",
       "      <td>0.375364</td>\n",
       "      <td>-1.085847</td>\n",
       "      <td>-0.226277</td>\n",
       "      <td>0.820925</td>\n",
       "    </tr>\n",
       "  </tbody>\n",
       "</table>\n",
       "</div>"
      ],
      "text/plain": [
       "          0         1         2         3\n",
       "0  0.375364 -1.085847 -0.226277  0.820925"
      ]
     },
     "execution_count": 121,
     "metadata": {},
     "output_type": "execute_result"
    }
   ],
   "source": [
    "w_gradient_descent_epsilon_1 = gradient_descent(X_train, Y_train, w_0, 0.0001,10, 0.0001)\n",
    "w_gradient_descent_epsilon_1.T"
   ]
  },
  {
   "cell_type": "markdown",
   "metadata": {},
   "source": [
    "2. A higher epsilon value will give slightly different weights but won't affect the MSE, as compared to the closed form solution"
   ]
  },
  {
   "cell_type": "code",
   "execution_count": 122,
   "metadata": {
    "colab": {},
    "colab_type": "code",
    "id": "q0mTAr4nfrcE"
   },
   "outputs": [
    {
     "data": {
      "text/html": [
       "<div>\n",
       "<style scoped>\n",
       "    .dataframe tbody tr th:only-of-type {\n",
       "        vertical-align: middle;\n",
       "    }\n",
       "\n",
       "    .dataframe tbody tr th {\n",
       "        vertical-align: top;\n",
       "    }\n",
       "\n",
       "    .dataframe thead th {\n",
       "        text-align: right;\n",
       "    }\n",
       "</style>\n",
       "<table border=\"1\" class=\"dataframe\">\n",
       "  <thead>\n",
       "    <tr style=\"text-align: right;\">\n",
       "      <th></th>\n",
       "      <th>0</th>\n",
       "      <th>1</th>\n",
       "      <th>2</th>\n",
       "      <th>3</th>\n",
       "    </tr>\n",
       "  </thead>\n",
       "  <tbody>\n",
       "    <tr>\n",
       "      <th>0</th>\n",
       "      <td>0.375364</td>\n",
       "      <td>-1.085804</td>\n",
       "      <td>-0.226276</td>\n",
       "      <td>0.820925</td>\n",
       "    </tr>\n",
       "  </tbody>\n",
       "</table>\n",
       "</div>"
      ],
      "text/plain": [
       "          0         1         2         3\n",
       "0  0.375364 -1.085804 -0.226276  0.820925"
      ]
     },
     "execution_count": 122,
     "metadata": {},
     "output_type": "execute_result"
    }
   ],
   "source": [
    "w_gradient_descent_epsilon_2 = gradient_descent(X_train, Y_train, w_0, 0.0001,10, 0.01)\n",
    "w_gradient_descent_epsilon_2.T"
   ]
  },
  {
   "cell_type": "markdown",
   "metadata": {},
   "source": [
    "3. An epsilon value that is too high will also affect the MSE, raising it"
   ]
  },
  {
   "cell_type": "code",
   "execution_count": 124,
   "metadata": {},
   "outputs": [
    {
     "data": {
      "text/html": [
       "<div>\n",
       "<style scoped>\n",
       "    .dataframe tbody tr th:only-of-type {\n",
       "        vertical-align: middle;\n",
       "    }\n",
       "\n",
       "    .dataframe tbody tr th {\n",
       "        vertical-align: top;\n",
       "    }\n",
       "\n",
       "    .dataframe thead th {\n",
       "        text-align: right;\n",
       "    }\n",
       "</style>\n",
       "<table border=\"1\" class=\"dataframe\">\n",
       "  <thead>\n",
       "    <tr style=\"text-align: right;\">\n",
       "      <th></th>\n",
       "      <th>0</th>\n",
       "      <th>1</th>\n",
       "      <th>2</th>\n",
       "      <th>3</th>\n",
       "    </tr>\n",
       "  </thead>\n",
       "  <tbody>\n",
       "    <tr>\n",
       "      <th>0</th>\n",
       "      <td>0.375251</td>\n",
       "      <td>-1.042665</td>\n",
       "      <td>-0.225981</td>\n",
       "      <td>0.820334</td>\n",
       "    </tr>\n",
       "  </tbody>\n",
       "</table>\n",
       "</div>"
      ],
      "text/plain": [
       "          0         1         2         3\n",
       "0  0.375251 -1.042665 -0.225981  0.820334"
      ]
     },
     "execution_count": 124,
     "metadata": {},
     "output_type": "execute_result"
    }
   ],
   "source": [
    "w_gradient_descent_epsilon_3 = gradient_descent(X_train, Y_train, w_0, 0.0001,10, 10)\n",
    "w_gradient_descent_epsilon_3.T"
   ]
  },
  {
   "cell_type": "code",
   "execution_count": 21,
   "metadata": {},
   "outputs": [
    {
     "name": "stdout",
     "output_type": "stream",
     "text": [
      "Training MSE 0    1.084705\n",
      "dtype: float64\n",
      "Validation MSE 0    1.020521\n",
      "dtype: float64\n"
     ]
    }
   ],
   "source": [
    "print('Training MSE', MSE(X_train, Y_train, w_gradient_descent))\n",
    "print('Validation MSE', MSE(X_val, Y_val, w_gradient_descent))"
   ]
  },
  {
   "cell_type": "markdown",
   "metadata": {},
   "source": [
    "summarize these results in a graph"
   ]
  },
  {
   "cell_type": "code",
   "execution_count": 125,
   "metadata": {},
   "outputs": [],
   "source": [
    "#finding optimal epsilon\n",
    "mse = 2\n",
    "epsilon = 20\n",
    "w_1 = gradient_descent(X_train, Y_train, w_0, 0.0001,10, epsilon)\n",
    "MSE_history_train = pd.DataFrame(MSE(X_train,Y_train,w_1))\n",
    "MSE_history_val = pd.DataFrame(MSE(X_val,Y_val,w_1))\n",
    "while (np.any(mse>1.020327) & (epsilon>0)):\n",
    "    epsilon = epsilon-(epsilon/6)\n",
    "    w_gradient_descent = gradient_descent(X_train, Y_train, w_0, 0.0001,10, epsilon)\n",
    "    mse = MSE(X_val,Y_val,w_gradient_descent)\n",
    "    MSE_history_train = MSE_history_train.append(pd.DataFrame(MSE(X_train,Y_train,w_gradient_descent)), ignore_index = True)\n",
    "    MSE_history_val = MSE_history_val.append(pd.DataFrame(MSE(X_val,Y_val,w_gradient_descent)), ignore_index = True)"
   ]
  },
  {
   "cell_type": "code",
   "execution_count": 126,
   "metadata": {},
   "outputs": [],
   "source": [
    "epsilon_history = pd.DataFrame(np.array([20]))\n",
    "epsilon = 20\n",
    "for i in range(0,39):\n",
    "    epsilon = pd.DataFrame(np.array([epsilon-(epsilon/6)]))\n",
    "    epsilon_history = epsilon_history.append(epsilon, ignore_index = True)"
   ]
  },
  {
   "cell_type": "code",
   "execution_count": 127,
   "metadata": {},
   "outputs": [
    {
     "data": {
      "text/html": [
       "<div>\n",
       "<style scoped>\n",
       "    .dataframe tbody tr th:only-of-type {\n",
       "        vertical-align: middle;\n",
       "    }\n",
       "\n",
       "    .dataframe tbody tr th {\n",
       "        vertical-align: top;\n",
       "    }\n",
       "\n",
       "    .dataframe thead th {\n",
       "        text-align: right;\n",
       "    }\n",
       "</style>\n",
       "<table border=\"1\" class=\"dataframe\">\n",
       "  <thead>\n",
       "    <tr style=\"text-align: right;\">\n",
       "      <th></th>\n",
       "      <th>0</th>\n",
       "      <th>1</th>\n",
       "      <th>2</th>\n",
       "      <th>3</th>\n",
       "      <th>4</th>\n",
       "      <th>5</th>\n",
       "      <th>6</th>\n",
       "      <th>7</th>\n",
       "      <th>8</th>\n",
       "      <th>9</th>\n",
       "      <th>...</th>\n",
       "      <th>30</th>\n",
       "      <th>31</th>\n",
       "      <th>32</th>\n",
       "      <th>33</th>\n",
       "      <th>34</th>\n",
       "      <th>35</th>\n",
       "      <th>36</th>\n",
       "      <th>37</th>\n",
       "      <th>38</th>\n",
       "      <th>39</th>\n",
       "    </tr>\n",
       "  </thead>\n",
       "  <tbody>\n",
       "    <tr>\n",
       "      <th>0</th>\n",
       "      <td>20.0</td>\n",
       "      <td>16.666667</td>\n",
       "      <td>13.888889</td>\n",
       "      <td>11.574074</td>\n",
       "      <td>9.645062</td>\n",
       "      <td>8.037551</td>\n",
       "      <td>6.69796</td>\n",
       "      <td>5.581633</td>\n",
       "      <td>4.651361</td>\n",
       "      <td>3.876134</td>\n",
       "      <td>...</td>\n",
       "      <td>0.084254</td>\n",
       "      <td>0.070212</td>\n",
       "      <td>0.05851</td>\n",
       "      <td>0.048758</td>\n",
       "      <td>0.040632</td>\n",
       "      <td>0.03386</td>\n",
       "      <td>0.028217</td>\n",
       "      <td>0.023514</td>\n",
       "      <td>0.019595</td>\n",
       "      <td>0.016329</td>\n",
       "    </tr>\n",
       "  </tbody>\n",
       "</table>\n",
       "<p>1 rows × 40 columns</p>\n",
       "</div>"
      ],
      "text/plain": [
       "     0          1          2          3         4         5        6   \\\n",
       "0  20.0  16.666667  13.888889  11.574074  9.645062  8.037551  6.69796   \n",
       "\n",
       "         7         8         9     ...           30        31       32  \\\n",
       "0  5.581633  4.651361  3.876134    ...     0.084254  0.070212  0.05851   \n",
       "\n",
       "         33        34       35        36        37        38        39  \n",
       "0  0.048758  0.040632  0.03386  0.028217  0.023514  0.019595  0.016329  \n",
       "\n",
       "[1 rows x 40 columns]"
      ]
     },
     "execution_count": 127,
     "metadata": {},
     "output_type": "execute_result"
    }
   ],
   "source": [
    "epsilon_history.T #hence the optimal epsilon is the last one, 0.0163"
   ]
  },
  {
   "cell_type": "code",
   "execution_count": 128,
   "metadata": {},
   "outputs": [
    {
     "data": {
      "text/plain": [
       "<Figure size 288x216 with 0 Axes>"
      ]
     },
     "metadata": {},
     "output_type": "display_data"
    },
    {
     "data": {
      "image/png": "[encoded data removed]",
      "text/plain": [
       "<Figure size 360x216 with 2 Axes>"
      ]
     },
     "metadata": {},
     "output_type": "display_data"
    }
   ],
   "source": [
    "plt.figure(figsize = (4,3))\n",
    "fig, ax1 = plt.subplots(figsize = (5,3))\n",
    "ax1.plot(epsilon_history, MSE_history_val, 'b-')\n",
    "ax1.set_xlabel('Tolerance', size = 15)\n",
    "# Make the y-axis label, ticks and tick labels match the line color.\n",
    "ax1.set_ylabel('Validation MSE', color='b', size = 15)\n",
    "ax1.tick_params('y', colors='b', size = 15)\n",
    "ax1.axhline(y=1.020327, linestyle = '--', color = 'b')\n",
    "\n",
    "ax2 = ax1.twinx()\n",
    "ax2.plot(epsilon_history, MSE_history_train, '-r')\n",
    "ax2.axhline(y=1.084683, linestyle = '--', color = 'r')\n",
    "ax2.set_ylabel('Training MSE', color='r', size= 15)\n",
    "ax2.tick_params('y', colors='r', size = 15)\n",
    "\n",
    "fig.tight_layout()\n",
    "plt.show()"
   ]
  },
  {
   "cell_type": "markdown",
   "metadata": {},
   "source": [
    "**Differences in the learning rate**"
   ]
  },
  {
   "cell_type": "code",
   "execution_count": 129,
   "metadata": {},
   "outputs": [
    {
     "name": "stdout",
     "output_type": "stream",
     "text": [
      "Training MSE 0    1.084683\n",
      "dtype: float64\n",
      "Validation MSE 0    1.020327\n",
      "dtype: float64\n"
     ]
    }
   ],
   "source": [
    "#really high beta value means that the learning rate decays really fast\n",
    "#so we want the lowest beta (hence slow decay) that gives a good MSE\n",
    "w_gradient_descent_rate_1 = gradient_descent(X_train, Y_train, w_0, 0.0001,1000, 0.0163)\n",
    "print('Training MSE', MSE(X_train, Y_train, w_gradient_descent_rate_1))\n",
    "print('Validation MSE', MSE(X_val, Y_val, w_gradient_descent_rate_1))\n",
    "#these are the same MSE values as for closed form"
   ]
  },
  {
   "cell_type": "code",
   "execution_count": 130,
   "metadata": {},
   "outputs": [
    {
     "data": {
      "text/html": [
       "<div>\n",
       "<style scoped>\n",
       "    .dataframe tbody tr th:only-of-type {\n",
       "        vertical-align: middle;\n",
       "    }\n",
       "\n",
       "    .dataframe tbody tr th {\n",
       "        vertical-align: top;\n",
       "    }\n",
       "\n",
       "    .dataframe thead th {\n",
       "        text-align: right;\n",
       "    }\n",
       "</style>\n",
       "<table border=\"1\" class=\"dataframe\">\n",
       "  <thead>\n",
       "    <tr style=\"text-align: right;\">\n",
       "      <th></th>\n",
       "      <th>0</th>\n",
       "      <th>1</th>\n",
       "      <th>2</th>\n",
       "      <th>3</th>\n",
       "    </tr>\n",
       "  </thead>\n",
       "  <tbody>\n",
       "    <tr>\n",
       "      <th>0</th>\n",
       "      <td>0.375364</td>\n",
       "      <td>-1.085777</td>\n",
       "      <td>-0.226276</td>\n",
       "      <td>0.820924</td>\n",
       "    </tr>\n",
       "  </tbody>\n",
       "</table>\n",
       "</div>"
      ],
      "text/plain": [
       "          0         1         2         3\n",
       "0  0.375364 -1.085777 -0.226276  0.820924"
      ]
     },
     "execution_count": 130,
     "metadata": {},
     "output_type": "execute_result"
    }
   ],
   "source": [
    "w_gradient_descent_rate = gradient_descent(X_train, Y_train, w_0, 0.0001,0.0000000001, 0.0163)\n",
    "w_gradient_descent_rate.T"
   ]
  },
  {
   "cell_type": "markdown",
   "metadata": {},
   "source": [
    "so changing beta doesn't affect much except the runtime (at this initial learning rate)"
   ]
  },
  {
   "cell_type": "code",
   "execution_count": 131,
   "metadata": {},
   "outputs": [
    {
     "name": "stdout",
     "output_type": "stream",
     "text": [
      "Training MSE 0    1.084683\n",
      "dtype: float64\n",
      "Validation MSE 0    1.020326\n",
      "dtype: float64\n"
     ]
    }
   ],
   "source": [
    "#change the initial learning rate\n",
    "w_gradient_descent_rate = gradient_descent(X_train, Y_train, w_0, 100000,0.0100, 0.0163)\n",
    "print('Training MSE', MSE(X_train, Y_train, w_gradient_descent_rate))\n",
    "print('Validation MSE', MSE(X_val, Y_val, w_gradient_descent_rate))\n",
    "#these are the same MSE values as for closed form"
   ]
  },
  {
   "cell_type": "markdown",
   "metadata": {},
   "source": [
    "therefore, the way that the decaying learning rate is set up, the rate parameters don't affect the MSE results. If it weren't a decaying rate but a fixed one, what would be the effects?"
   ]
  },
  {
   "cell_type": "code",
   "execution_count": 132,
   "metadata": {},
   "outputs": [],
   "source": [
    "def gradient_descent_fix_rate(x,y,w,alpha,epsilon):\n",
    "    grad = epsilon+1 #initializes while loop, will always be greater than epsilon\n",
    "    #MSE_history = pd.DataFrame(MSE(x,y,w))\n",
    "    p1 = np.dot(x.T,x)\n",
    "    p2 = np.dot(x.T, y)\n",
    "    while abs(grad) > epsilon:\n",
    "        gradient = 2*(np.dot(p1,w)-p2)\n",
    "        grad = np.linalg.norm(gradient)\n",
    "        w = w-alpha*(gradient)\n",
    "        #MSE_history = MSE_history.append(pd.DataFrame(MSE(x,y,w)), ignore_index = True)\n",
    "    return w"
   ]
  },
  {
   "cell_type": "code",
   "execution_count": 133,
   "metadata": {},
   "outputs": [
    {
     "name": "stderr",
     "output_type": "stream",
     "text": [
      "C:\\Users\\user\\Anaconda3.2\\lib\\site-packages\\ipykernel_launcher.py:7: RuntimeWarning: overflow encountered in multiply\n",
      "  import sys\n"
     ]
    }
   ],
   "source": [
    "w_fix_rate = gradient_descent_fix_rate(X_train, Y_train, w_0, 0.00005, 0.0163)\n",
    "#if the learning rate is too large, we get a warning"
   ]
  },
  {
   "cell_type": "markdown",
   "metadata": {},
   "source": [
    "**Runtime** (at optimal parameters)"
   ]
  },
  {
   "cell_type": "code",
   "execution_count": 134,
   "metadata": {},
   "outputs": [
    {
     "name": "stdout",
     "output_type": "stream",
     "text": [
      "2.12 s ± 46.9 ms per loop (mean ± std. dev. of 7 runs, 1 loop each)\n"
     ]
    }
   ],
   "source": [
    "%%timeit\n",
    "w_gradient_descent_opt = gradient_descent(X_train, Y_train, w_0, 0.0001,10, 0.0163)"
   ]
  },
  {
   "cell_type": "markdown",
   "metadata": {},
   "source": [
    "**Differences in initial weight and runtime**"
   ]
  },
  {
   "cell_type": "code",
   "execution_count": 135,
   "metadata": {},
   "outputs": [],
   "source": [
    "def gradient_descent_with_iteration_count(x,y,w,n, beta,epsilon):\n",
    "    grad = epsilon+1 #initializes while loop, will always be greater than epsilon\n",
    "    #MSE_history = pd.DataFrame(MSE(x,y,w))\n",
    "    p1 = np.dot(x.T,x)\n",
    "    p2 = np.dot(x.T, y)\n",
    "    alpha = n/(1+beta)\n",
    "    i = 0\n",
    "    while abs(grad) > epsilon:\n",
    "        if (alpha>1e-5):\n",
    "            alpha = n/(1+beta)\n",
    "            beta = 10*beta #want beta to get bigger with each iteration so that the learning rate decays\n",
    "        gradient = 2*(np.dot(p1,w)-p2)\n",
    "        grad = np.linalg.norm(gradient)\n",
    "        w = w-alpha*(gradient)\n",
    "        i = i+1\n",
    "        #MSE_history = MSE_history.append(pd.DataFrame(MSE(x,y,w)), ignore_index = True)\n",
    "    return w, i"
   ]
  },
  {
   "cell_type": "code",
   "execution_count": 136,
   "metadata": {},
   "outputs": [],
   "source": [
    "optimal_w = closed_form(X_train, Y_train)\n",
    "i=1\n",
    "i_history=pd.DataFrame(np.array([i]))\n",
    "w_initial = optimal_w*i\n",
    "w_final, iterations_per_model = gradient_descent_with_iteration_count(X_train, Y_train,w_initial, 0.001, 10, 0.0163)\n",
    "iterations = pd.DataFrame(np.array([iterations_per_model]))\n",
    "while(i<500):\n",
    "    i = 1.3*i\n",
    "    w_initial = optimal_w*i\n",
    "    w_final, iterations_per_model = gradient_descent_with_iteration_count(X_train, Y_train,w_initial, 0.001, 10, 0.0163)\n",
    "    i_history = i_history.append(pd.DataFrame(np.array([i])))\n",
    "    iterations = iterations.append(pd.DataFrame(np.array([iterations_per_model])))"
   ]
  },
  {
   "cell_type": "code",
   "execution_count": 137,
   "metadata": {},
   "outputs": [
    {
     "data": {
      "image/png": "[encoded data removed]",
      "text/plain": [
       "<Figure size 288x216 with 1 Axes>"
      ]
     },
     "metadata": {},
     "output_type": "display_data"
    }
   ],
   "source": [
    "plt.figure(figsize = (4,3))\n",
    "plt.plot(i_history, iterations)\n",
    "plt.xlabel(\"Multiple of the optimal weights\", size = 15)\n",
    "plt.ylabel(\"Number of Iterations\", size = 15)\n",
    "#plt.title(\"Effect of weight initialization on the number of iterations required for convergence\")\n",
    "plt.show()"
   ]
  },
  {
   "cell_type": "markdown",
   "metadata": {},
   "source": [
    "compare runtime of optimal epsilon versus other epsilons, same with beta value?"
   ]
  },
  {
   "cell_type": "markdown",
   "metadata": {},
   "source": [
    "**Differences in the model when using a subset of the training data**"
   ]
  },
  {
   "cell_type": "code",
   "execution_count": 138,
   "metadata": {},
   "outputs": [],
   "source": [
    "with open(\"proj1_data.json\") as fp:\n",
    "    data = json.load(fp)\n",
    "data = pd.DataFrame.from_dict(data, orient = 'columns')\n",
    "#Converting true and false values into binaries\n",
    "data[\"is_root\"] = data[\"is_root\"].astype(int)\n",
    "\n",
    "#Store Popularity as target variable\n",
    "y = data[\"popularity_score\"]\n",
    "#Dropping target variable in data\n",
    "data = data.drop(['popularity_score', 'text'],1) #get rid of other features and try with just one to begin with"
   ]
  },
  {
   "cell_type": "code",
   "execution_count": 139,
   "metadata": {},
   "outputs": [],
   "source": [
    "X = np.concatenate((data, singles),axis=1) #add a column of ones for the gradient descent, this is the bias\n",
    "#Splitting Data\n",
    "X_train_split_1 = X[:5000]\n",
    "X_train_split_2 = X[5000:10000]\n",
    "X_val = X[10000:11000]\n",
    "#Splitting targets\n",
    "y = y.values.reshape(12000,1)\n",
    "Y_train_split_1 = y[:5000]\n",
    "Y_train_split_2 = y[5000:10000]\n",
    "Y_val = y[10000:11000]"
   ]
  },
  {
   "cell_type": "code",
   "execution_count": 140,
   "metadata": {},
   "outputs": [],
   "source": [
    "optimal_w_gradient_descent = gradient_descent(X_train, Y_train, w_0, 0.0001, 10, 0.0163)\n",
    "optimal_w_closed_form = closed_form(X_train, Y_train)\n",
    "def percent_difference(a, b):\n",
    "    diff = 100*np.abs(a-b)/((a+b)/2)\n",
    "    return diff"
   ]
  },
  {
   "cell_type": "code",
   "execution_count": 141,
   "metadata": {},
   "outputs": [
    {
     "name": "stdout",
     "output_type": "stream",
     "text": [
      "0    0.221479\n",
      "dtype: float64\n",
      "0    0.048928\n",
      "dtype: float64\n"
     ]
    }
   ],
   "source": [
    "w_gradient_descent_split_1 = gradient_descent(X_train_split_1, Y_train_split_1, w_0, 0.0001,10, 0.0163)\n",
    "print(percent_difference(MSE(X_train_split_1, Y_train_split_1, w_gradient_descent_split_1), \n",
    "                   MSE(X_train, Y_train, optimal_w_gradient_descent)))\n",
    "print(percent_difference(MSE(X_val, Y_val, w_gradient_descent_split_1), \n",
    "                   MSE(X_val, Y_val, optimal_w_gradient_descent)))"
   ]
  },
  {
   "cell_type": "code",
   "execution_count": 142,
   "metadata": {},
   "outputs": [
    {
     "name": "stdout",
     "output_type": "stream",
     "text": [
      "0    0.748786\n",
      "dtype: float64\n",
      "0    0.320924\n",
      "dtype: float64\n"
     ]
    }
   ],
   "source": [
    "#now try with the other half of the split, does using a different training set of the same size give a different error?\n",
    "w_gradient_descent_split_2 = gradient_descent(X_train_split_2, Y_train_split_2, w_0, 0.0001,10, 0.0163)\n",
    "print(percent_difference(MSE(X_train_split_2, Y_train_split_2, w_gradient_descent_split_2), \n",
    "                   MSE(X_train_split_1, Y_train_split_1, w_gradient_descent_split_1)))\n",
    "print(percent_difference(MSE(X_val, Y_val, w_gradient_descent_split_2), \n",
    "                   MSE(X_val, Y_val, optimal_w_gradient_descent)))"
   ]
  },
  {
   "cell_type": "code",
   "execution_count": 143,
   "metadata": {},
   "outputs": [],
   "source": [
    "#is there a minimum subset of the data that will give the same MSE as the training set with 10 000 examples?\n",
    "#9 is the minimum number of examples in the training set, any lower will give a singular matrix error\n",
    "X_train_subset = X[:9]\n",
    "Y_train_subset = y[:9]\n",
    "w_subset = closed_form(X_train_subset, Y_train_subset)\n",
    "MSE_train_subset = pd.DataFrame(MSE(X_train_subset, Y_train_subset, w_subset))\n",
    "MSE_val_subset = pd.DataFrame(MSE(X_val, Y_val, w_subset))\n",
    "n=0\n",
    "for i in range(10, 10000):\n",
    "    X_train_subset = X[:i]\n",
    "    Y_train_subset = y[:i]\n",
    "    w_subset = closed_form(X_train_subset, Y_train_subset)\n",
    "    MSE_train_subset = MSE_train_subset.append(pd.DataFrame(MSE(X_train_subset, Y_train_subset, w_subset)), ignore_index = True)\n",
    "    MSE_val_subset = MSE_val_subset.append(pd.DataFrame(MSE(X_val, Y_val, w_subset)), ignore_index = True)"
   ]
  },
  {
   "cell_type": "code",
   "execution_count": 144,
   "metadata": {},
   "outputs": [
    {
     "data": {
      "image/png": "[encoded data removed]",
      "text/plain": [
       "<Figure size 360x216 with 1 Axes>"
      ]
     },
     "metadata": {},
     "output_type": "display_data"
    }
   ],
   "source": [
    "plt.figure(figsize = (5,3))\n",
    "x_axis = list(range(9, 10000))\n",
    "plt.plot(x_axis, MSE_train_subset, '-b', label = \"training data\")\n",
    "plt.plot(x_axis, MSE_val_subset, '-r', label = \"validation data\")\n",
    "plt.xlabel(\"Number of Training Data Points\", size = 15)\n",
    "plt.ylabel(\"MSE\", size = 15)\n",
    "plt.hlines(1.084683, 9, 10000, color ='b', linestyle = '--')\n",
    "plt.hlines(1.020327, 9, 10000, color ='r', linestyle = '--')\n",
    "plt.legend()\n",
    "plt.show()"
   ]
  },
  {
   "cell_type": "code",
   "execution_count": null,
   "metadata": {},
   "outputs": [],
   "source": []
  }
 ],
 "metadata": {
  "colab": {
   "collapsed_sections": [],
   "name": "Mini_project_1_gradient_descent.ipynb",
   "provenance": [],
   "version": "0.3.2"
  },
  "kernelspec": {
   "display_name": "Python 3",
   "language": "python",
   "name": "python3"
  },
  "language_info": {
   "codemirror_mode": {
    "name": "ipython",
    "version": 3
   },
   "file_extension": ".py",
   "mimetype": "text/x-python",
   "name": "python",
   "nbconvert_exporter": "python",
   "pygments_lexer": "ipython3",
   "version": "3.6.5"
  }
 },
 "nbformat": 4,
 "nbformat_minor": 1
}
